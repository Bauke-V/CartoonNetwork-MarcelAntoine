{
 "cells": [
  {
   "cell_type": "code",
   "execution_count": null,
   "metadata": {},
   "outputs": [],
   "source": [
    "!python -m spacy download fr_core_news_lg"
   ]
  },
  {
   "cell_type": "code",
   "execution_count": null,
   "metadata": {},
   "outputs": [],
   "source": [
    "import spacy\n",
    "import pandas as pd\n",
    "import json\n",
    "import os\n",
    "import re\n",
    "import unicodedata\n",
    "\n",
    "# Load the French spaCy model\n",
    "nlp = spacy.load(\"fr_core_news_lg\")\n",
    "\n",
    "# Folder containing your articles\n",
    "folder_path = r\"C:\\Users\\bauke\\OneDrive - KU Leuven\\Documents\\Documenten\\5 digital humanities\\stage\\articles-verbetering\"\n",
    "\n",
    "# Function to read article content\n",
    "def read_article(file_path):\n",
    "    with open(file_path, \"r\", encoding=\"utf-8\") as file:\n",
    "        return file.read()\n",
    "\n",
    "# Preprocessing function \n",
    "def preprocess_text(text):\n",
    "    text = unicodedata.normalize(\"NFKC\", text) \n",
    "    text = text.lower()  \n",
    "    text = re.sub(r\"\\s+\", \" \", text)  \n",
    "    text = re.sub(r\"[^\\w\\s]\", \"\", text)  \n",
    "    return text.strip()\n",
    "\n",
    "# Function to extract named entities (people & places)\n",
    "def extract_entities(text):\n",
    "    doc = nlp(text)\n",
    "    people = [ent.text for ent in doc.ents if ent.label_ == \"PER\"]  # Person\n",
    "    places = [ent.text for ent in doc.ents if ent.label_ in [\"LOC\", \"GPE\"]]  # Locations\n",
    "    return {\"people\": list(set(people)), \"places\": list(set(places))}\n",
    "\n",
    "# Load articles into a DataFrame\n",
    "data = []\n",
    "for filename in os.listdir(folder_path):\n",
    "    if filename.endswith(\".txt\"):\n",
    "        file_path = os.path.join(folder_path, filename)\n",
    "        text = read_article(file_path)\n",
    "        clean_text = preprocess_text(text)\n",
    "        entities = extract_entities(clean_text)\n",
    "        data.append({\n",
    "            \"filename\": filename,\n",
    "            \"preprocessed_text\": clean_text,\n",
    "            \"people\": entities[\"people\"],\n",
    "            \"places\": entities[\"places\"]\n",
    "        })\n",
    "\n",
    "df = pd.DataFrame(data)\n",
    "\n",
    "\n",
    "df.to_csv(\"spacy_ner_results.csv\", index=False)\n",
    "\n"
   ]
  },
  {
   "cell_type": "code",
   "execution_count": null,
   "metadata": {},
   "outputs": [],
   "source": []
  }
 ],
 "metadata": {
  "kernelspec": {
   "display_name": "isi_env",
   "language": "python",
   "name": "python3"
  },
  "language_info": {
   "codemirror_mode": {
    "name": "ipython",
    "version": 3
   },
   "file_extension": ".py",
   "mimetype": "text/x-python",
   "name": "python",
   "nbconvert_exporter": "python",
   "pygments_lexer": "ipython3",
   "version": "3.12.7"
  }
 },
 "nbformat": 4,
 "nbformat_minor": 2
}
