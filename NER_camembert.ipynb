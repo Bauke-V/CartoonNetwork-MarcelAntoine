{
 "cells": [
  {
   "cell_type": "code",
   "execution_count": 1,
   "metadata": {},
   "outputs": [],
   "source": [
    "import pandas as pd\n",
    "import re\n",
    "import unicodedata\n",
    "import json\n",
    "from pathlib import Path\n",
    "from transformers import AutoTokenizer, pipeline\n",
    "from transformers import CamembertTokenizer"
   ]
  },
  {
   "cell_type": "code",
   "execution_count": 2,
   "metadata": {},
   "outputs": [
    {
     "name": "stdout",
     "output_type": "stream",
     "text": [
      "                                            filename  \\\n",
      "0  BE-KBR00_12126493_19340520_00_00_00_0_01_0001_...   \n",
      "1  BE-KBR00_12126493_19340520_00_00_00_0_01_0001_...   \n",
      "2  BE-KBR00_12126493_19340708_00_00_00_0_01_0024_...   \n",
      "3  BE-KBR00_12126493_19340909_00_00_00_0_01_0002_...   \n",
      "4  BE-KBR00_12126493_19341223_00_00_00_0_01_0001_...   \n",
      "\n",
      "                                                text  \n",
      "0  (Photo E. Delhaes,)\\nLe Speaker humoristique\\n...  \n",
      "1  PROGRAMME\\n13 heures — Concert de gala présent...  \n",
      "2  Un prince des humoristes\\nMarcel Antoine,\\nle ...  \n",
      "3  Radio qui rit\\nAu hasard du VIe Salon\\nPortrai...  \n",
      "4  LES SUN'KIST'S\\nChanteurs, danseurs et guitari...  \n"
     ]
    }
   ],
   "source": [
    "input_folder = Path(r\"C:\\Users\\bauke\\OneDrive - KU Leuven\\Documents\\Documenten\\5 digital humanities\\stage\\articles-verbetering\")\n",
    "\n",
    "data = ({\"filename\": [], \"text\": []})\n",
    "\n",
    "for file_path in input_folder.glob(\"*.txt\"):\n",
    "    with open(file_path, \"r\", encoding=\"utf-8\") as f:\n",
    "        text = f.read()\n",
    "    \n",
    "    data[\"filename\"].append(file_path.name)\n",
    "    data[\"text\"].append(text)\n",
    "\n",
    "df = pd.DataFrame(data)\n",
    "\n",
    "print(df.head())\n"
   ]
  },
  {
   "cell_type": "code",
   "execution_count": 3,
   "metadata": {},
   "outputs": [],
   "source": [
    "def preprocess_text(text):\n",
    "    text = unicodedata.normalize(\"NFKC\", text)  \n",
    "    text = re.sub(r\"(\\w+)-\\n(\\w+)\", r\"\\1\\2\", text)  \n",
    "    text = re.sub(r\"\\n+\", \" \", text)\n",
    "    text = re.sub(r\"\\s+\", \" \", text).strip()  \n",
    "    text = re.sub(r\"(\\w)([.,;!?])\", r\"\\1 \\2\", text)  \n",
    "    return text\n",
    "\n",
    "df[\"cleaned_text\"] = df[\"text\"].apply(preprocess_text)"
   ]
  },
  {
   "cell_type": "code",
   "execution_count": 6,
   "metadata": {},
   "outputs": [
    {
     "name": "stderr",
     "output_type": "stream",
     "text": [
      "Device set to use cpu\n"
     ]
    }
   ],
   "source": [
    "tokenizer = CamembertTokenizer.from_pretrained(\"Jean-Baptiste/camembert-ner\")\n",
    "ner_pipeline = pipeline(\"ner\", model=\"Jean-Baptiste/camembert-ner\", tokenizer=tokenizer, aggregation_strategy=\"simple\")\n",
    "\n",
    "def extract_entities(text):\n",
    "    results = ner_pipeline(text)\n",
    "\n",
    "    people = [ent[\"word\"] for ent in results if ent[\"entity_group\"] == \"PER\"]\n",
    "    locations = [ent[\"word\"] for ent in results if ent[\"entity_group\"] == \"LOC\"]\n",
    "    organisations = [ent[\"word\"] for ent in results if ent[\"entity_group\"] == \"ORG\"]\n",
    "\n",
    "    return {\"people\": people, \"locations\": locations, \"organisations\": organisations }\n",
    "\n",
    "df[\"ner_results\"] = df[\"cleaned_text\"].apply(extract_entities)"
   ]
  },
  {
   "cell_type": "code",
   "execution_count": 7,
   "metadata": {},
   "outputs": [
    {
     "name": "stdout",
     "output_type": "stream",
     "text": [
      "NER results saved to ner_results3.json\n"
     ]
    }
   ],
   "source": [
    "json_output = {}\n",
    "\n",
    "for _, row in df.iterrows():\n",
    "    json_output[row[\"filename\"]] = {\n",
    "        \"text\": row[\"text\"],  \n",
    "        \"cleaned_text\": row[\"cleaned_text\"],  \n",
    "        \"people\": row[\"ner_results\"][\"people\"],  \n",
    "        \"locations\": row[\"ner_results\"][\"locations\"],  \n",
    "        \"organisations\": row[\"ner_results\"][\"organisations\"]\n",
    "    }\n",
    "\n",
    "output_file = \"ner_results3.json\"\n",
    "with open(output_file, \"w\", encoding=\"utf-8\") as f:\n",
    "    json.dump(json_output, f, ensure_ascii=False, indent=4)\n",
    "\n",
    "print(f\"NER results saved to {output_file}\")"
   ]
  },
  {
   "cell_type": "code",
   "execution_count": 11,
   "metadata": {},
   "outputs": [
    {
     "name": "stdout",
     "output_type": "stream",
     "text": [
      "flat NER results saved to ner_results3.json\n"
     ]
    }
   ],
   "source": [
    "flat_json_output = [\n",
    "    {\n",
    "        \"filename\": key,\n",
    "        \"text\": value[\"text\"],\n",
    "        \"cleaned_text\": value[\"cleaned_text\"],\n",
    "        \"people\": \", \".join(set(value[\"people\"])), \n",
    "        \"locations\": \", \".join(set(value[\"locations\"])),\n",
    "        \"organisations\": \", \".join(set(value[\"organisations\"]))  \n",
    "    }\n",
    "    for key, value in json_output.items()\n",
    "]\n",
    "import json\n",
    "output_file2 = \"flat_ner_results.json\"\n",
    "with open(output_file2, \"w\", encoding=\"utf-8\") as f:\n",
    "    json.dump(flat_json_output, f, indent=4, ensure_ascii=False)\n",
    "\n",
    "print(f\"flat NER results saved to {output_file}\")"
   ]
  },
  {
   "cell_type": "code",
   "execution_count": null,
   "metadata": {},
   "outputs": [],
   "source": []
  }
 ],
 "metadata": {
  "kernelspec": {
   "display_name": "Python 3 (ipykernel)",
   "language": "python",
   "name": "python3"
  },
  "language_info": {
   "codemirror_mode": {
    "name": "ipython",
    "version": 3
   },
   "file_extension": ".py",
   "mimetype": "text/x-python",
   "name": "python",
   "nbconvert_exporter": "python",
   "pygments_lexer": "ipython3",
   "version": "3.12.7"
  }
 },
 "nbformat": 4,
 "nbformat_minor": 2
}
