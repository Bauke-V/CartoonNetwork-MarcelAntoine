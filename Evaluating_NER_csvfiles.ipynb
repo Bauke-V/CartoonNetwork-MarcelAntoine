{
 "cells": [
  {
   "cell_type": "code",
   "execution_count": null,
   "id": "96824cdc",
   "metadata": {},
   "outputs": [],
   "source": [
    "import json\n",
    "import pandas as pd\n",
    "from sklearn.metrics import precision_recall_fscore_support\n",
    "\n",
    "df_preds = pd.read_csv(r\"C:\\Users\\bauke\\flair_ner_results.csv\") \n",
    "df_preds[\"people\"] = df_preds[\"people\"].fillna(\"\")\n",
    "df_preds[\"locations\"] = df_preds[\"locations\"].fillna(\"\")\n",
    "\n",
    "with open(r\"C:\\Users\\bauke\\OneDrive - KU Leuven\\Documents\\Documenten\\5 digital humanities\\stage\\Marcel150_clean.json\", encoding=\"utf-8\") as f:\n",
    "    annotated = json.load(f)\n",
    "\n",
    "gold_entities = {}\n",
    "for item in annotated:\n",
    "    filename = item[\"data\"][\"filename\"]\n",
    "    entities = item[\"annotations\"][0][\"result\"]\n",
    "    gold_per = set()\n",
    "    gold_loc = set()\n",
    "    for ent in entities:\n",
    "        label = ent[\"value\"][\"labels\"][0]\n",
    "        text = ent[\"value\"][\"text\"].strip()\n",
    "        if label == \"PER\":\n",
    "            gold_per.add(text)\n",
    "        elif label == \"LOC\":\n",
    "            gold_loc.add(text)\n",
    "    gold_entities[filename] = {\"PER\": gold_per, \"LOC\": gold_loc}\n",
    "\n",
    "y_true = []\n",
    "y_pred = []\n",
    "\n",
    "for _, row in df_preds.iterrows():\n",
    "    filename = row[\"filename\"]\n",
    "    pred_per = set(x.strip() for x in str(row[\"people\"]).split(\",\") if x.strip())\n",
    "    pred_loc = set(x.strip() for x in str(row[\"locations\"]).split(\",\") if x.strip())\n",
    "\n",
    "    gold = gold_entities.get(filename, {\"PER\": set(), \"LOC\": set()})\n",
    "    gold_per = gold[\"PER\"]\n",
    "    gold_loc = gold[\"LOC\"]\n",
    "\n",
    "    for ent in pred_per:\n",
    "        y_pred.append(\"PER\")\n",
    "        y_true.append(\"PER\" if ent in gold_per else \"O\")\n",
    "    for ent in gold_per:\n",
    "        if ent not in pred_per:\n",
    "            y_pred.append(\"O\")\n",
    "            y_true.append(\"PER\")\n",
    "\n",
    "    for ent in pred_loc:\n",
    "        y_pred.append(\"LOC\")\n",
    "        y_true.append(\"LOC\" if ent in gold_loc else \"O\")\n",
    "    for ent in gold_loc:\n",
    "        if ent not in pred_loc:\n",
    "            y_pred.append(\"O\")\n",
    "            y_true.append(\"LOC\")\n",
    "\n",
    "labels = [\"PER\", \"LOC\"]\n",
    "precision, recall, f1, support = precision_recall_fscore_support(y_true, y_pred, labels=labels, zero_division=0)\n",
    "\n",
    "print(\"\\nEntity-Level Evaluation Report:\")\n",
    "for i, label in enumerate(labels):\n",
    "    print(f\"{label}:\")\n",
    "    print(f\"  Precision: {precision[i]:.4f}\")\n",
    "    print(f\"  Recall:    {recall[i]:.4f}\")\n",
    "    print(f\"  F1 Score:  {f1[i]:.4f}\")\n",
    "    print(f\"  Support:   {support[i]}\")\n"
   ]
  },
  {
   "cell_type": "code",
   "execution_count": null,
   "id": "49122bf9",
   "metadata": {},
   "outputs": [
    {
     "name": "stdout",
     "output_type": "stream",
     "text": [
      "0    BE-KBR00_12126493_19340520_00_00_00_0_01_0001_...\n",
      "1    BE-KBR00_12126493_19340520_00_00_00_0_01_0001_...\n",
      "2    BE-KBR00_12126493_19340708_00_00_00_0_01_0024_...\n",
      "3    BE-KBR00_12126493_19340909_00_00_00_0_01_0002_...\n",
      "4    BE-KBR00_12126493_19341223_00_00_00_0_01_0001_...\n",
      "Name: filename, dtype: object\n",
      "['file838.txt', 'file839.txt', 'file840.txt', 'file841.txt', 'file842.txt']\n"
     ]
    }
   ],
   "source": [
    "print(df_preds[\"filename\"].head())"
   ]
  },
  {
   "cell_type": "code",
   "execution_count": null,
   "id": "6a4d1fb3",
   "metadata": {},
   "outputs": [],
   "source": []
  }
 ],
 "metadata": {
  "kernelspec": {
   "display_name": "isi_env",
   "language": "python",
   "name": "python3"
  },
  "language_info": {
   "codemirror_mode": {
    "name": "ipython",
    "version": 3
   },
   "file_extension": ".py",
   "mimetype": "text/x-python",
   "name": "python",
   "nbconvert_exporter": "python",
   "pygments_lexer": "ipython3",
   "version": "3.12.7"
  }
 },
 "nbformat": 4,
 "nbformat_minor": 5
}
