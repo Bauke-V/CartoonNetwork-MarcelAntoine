{
 "cells": [
  {
   "cell_type": "code",
   "execution_count": null,
   "metadata": {},
   "outputs": [
    {
     "name": "stdout",
     "output_type": "stream",
     "text": [
      "Data saved to Marcel.json\n"
     ]
    }
   ],
   "source": [
    "import os\n",
    "import random\n",
    "import json\n",
    "\n",
    "def get_random_files(folder_path, num_files=50):\n",
    "    all_files = [f for f in os.listdir(folder_path) if f.endswith('.txt')]\n",
    "    if len(all_files) < num_files:\n",
    "        raise ValueError(f\"Not enough text files in the folder. Found {len(all_files)}, but {num_files} are required.\")\n",
    "    return random.sample(all_files, num_files)\n",
    "\n",
    "def read_file_contents(folder_path, filename):\n",
    "    with open(os.path.join(folder_path, filename), 'r', encoding='utf-8') as file:\n",
    "        return file.read()\n",
    "\n",
    "def create_json_data(folder_path, files):\n",
    "    data = []\n",
    "    for filename in files:\n",
    "        content = read_file_contents(folder_path, filename)\n",
    "        data.append({\n",
    "            \"filename\": filename,\n",
    "            \"content\": content\n",
    "        })\n",
    "    return data\n",
    "\n",
    "def save_to_json(data, output_file):\n",
    "    with open(output_file, 'w', encoding='utf-8') as json_file:\n",
    "        json.dump(data, json_file, indent=4)\n",
    "\n",
    "def main(folder_path, output_file, num_files=50):\n",
    "    random_files = get_random_files(folder_path, num_files)\n",
    "    \n",
    "    json_data = create_json_data(folder_path, random_files)\n",
    "    \n",
    "    save_to_json(json_data, output_file)\n",
    "    print(f\"Data saved to {output_file}\")\n",
    "\n",
    "if __name__ == \"__main__\":\n",
    "    folder_path = r\"\"\n",
    "    output_file = \"Marcel.json\"  \n",
    "    \n",
    "    \n",
    "    main(folder_path, output_file)"
   ]
  },
  {
   "cell_type": "code",
   "execution_count": null,
   "metadata": {},
   "outputs": [],
   "source": []
  }
 ],
 "metadata": {
  "kernelspec": {
   "display_name": "Python 3 (ipykernel)",
   "language": "python",
   "name": "python3"
  },
  "language_info": {
   "codemirror_mode": {
    "name": "ipython",
    "version": 3
   },
   "file_extension": ".py",
   "mimetype": "text/x-python",
   "name": "python",
   "nbconvert_exporter": "python",
   "pygments_lexer": "ipython3",
   "version": "3.12.7"
  }
 },
 "nbformat": 4,
 "nbformat_minor": 2
}
