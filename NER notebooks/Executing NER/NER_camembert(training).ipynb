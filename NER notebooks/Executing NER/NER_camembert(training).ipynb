{
 "cells": [
  {
   "cell_type": "code",
   "execution_count": null,
   "metadata": {},
   "outputs": [],
   "source": [
    "!pip install seqeval"
   ]
  },
  {
   "cell_type": "code",
   "execution_count": null,
   "metadata": {},
   "outputs": [
    {
     "name": "stderr",
     "output_type": "stream",
     "text": [
      "Token indices sequence length is longer than the specified maximum sequence length for this model (1280 > 512). Running this sequence through the model will result in indexing errors\n"
     ]
    },
    {
     "name": "stdout",
     "output_type": "stream",
     "text": [
      "✅ Clean and label-aware dataset saved to hf_ner_data150.json\n"
     ]
    }
   ],
   "source": [
    "import json\n",
    "from transformers import AutoTokenizer\n",
    "from sklearn.model_selection import train_test_split\n",
    "from datasets import Dataset\n",
    "\n",
    "LABEL_LIST = [\"O\", \"B-PER\", \"I-PER\", \"B-LOC\", \"I-LOC\"]\n",
    "LABEL_MAPPING = {label: i for i, label in enumerate(LABEL_LIST)}\n",
    "MAX_LEN = 512\n",
    "\n",
    "tokenizer = AutoTokenizer.from_pretrained(\"Jean-Baptiste/camembert-ner\")\n",
    "\n",
    "with open(r\"C:\\Users\\bauke\\OneDrive - KU Leuven\\Documents\\Documenten\\5 digital humanities\\stage\\Marcel150_clean.json\", \"r\", encoding=\"utf-8\") as f:\n",
    "    label_studio_data = json.load(f)\n",
    "\n",
    "def split_into_chunks(tokens, labels, max_len=512):\n",
    "    chunks = []\n",
    "    for i in range(0, len(tokens), max_len):\n",
    "        chunk_tokens = tokens[i:i+max_len]\n",
    "        chunk_labels = labels[i:i+max_len]\n",
    "        chunks.append({\n",
    "            \"tokens\": chunk_tokens,\n",
    "            \"ner_tags\": chunk_labels\n",
    "        })\n",
    "    return chunks\n",
    "\n",
    "def convert_to_hf_format(data):\n",
    "    hf_dataset = []\n",
    "\n",
    "    for item in data:\n",
    "        text = item[\"data\"][\"cleaned_text\"]\n",
    "        annotations = item[\"annotations\"][0][\"result\"]\n",
    "\n",
    "        encoding = tokenizer(text, return_offsets_mapping=True, truncation=False)\n",
    "        tokens = tokenizer.convert_ids_to_tokens(encoding[\"input_ids\"])\n",
    "        offsets = encoding[\"offset_mapping\"]\n",
    "\n",
    "        labels = [\"O\"] * len(tokens)\n",
    "\n",
    "        for ann in annotations:\n",
    "            start = ann[\"value\"][\"start\"]\n",
    "            end = ann[\"value\"][\"end\"]\n",
    "            label_text = ann[\"value\"][\"labels\"][0].upper() \n",
    "            if label_text not in {\"PER\", \"LOC\"}:\n",
    "                continue  \n",
    "\n",
    "            for i, (token_start, token_end) in enumerate(offsets):\n",
    "                if token_start is None or token_end is None:\n",
    "                    continue\n",
    "                if token_start >= start and token_end <= end:\n",
    "                    labels[i] = f\"B-{label_text}\" if token_start == start else f\"I-{label_text}\"\n",
    "\n",
    "        filtered = [\n",
    "            (token, LABEL_MAPPING.get(label, 0))\n",
    "            for token, label in zip(tokens, labels)\n",
    "            if token not in tokenizer.all_special_tokens\n",
    "        ]\n",
    "\n",
    "        if filtered:\n",
    "            token_list, tag_list = zip(*filtered)\n",
    "            chunks = split_into_chunks(list(token_list), list(tag_list), MAX_LEN)\n",
    "            hf_dataset.extend(chunks)\n",
    "\n",
    "    return hf_dataset\n",
    "\n",
    "hf_data = convert_to_hf_format(label_studio_data)\n",
    "\n",
    "train_data, eval_data = train_test_split(hf_data, test_size=0.2, random_state=42)\n",
    "\n",
    "train_dataset = Dataset.from_list(train_data)\n",
    "eval_dataset = Dataset.from_list(eval_data)\n",
    "\n",
    "with open(\"hf_ner_data150.json\", \"w\", encoding=\"utf-8\") as f:\n",
    "    json.dump(hf_data, f, indent=4, ensure_ascii=False)\n",
    "\n",
    "print(\"Clean and label-aware dataset saved to hf_ner_data150.json\")\n"
   ]
  },
  {
   "cell_type": "code",
   "execution_count": null,
   "metadata": {},
   "outputs": [
    {
     "data": {
      "application/vnd.jupyter.widget-view+json": {
       "model_id": "238649ab056349aa867f3597efc4718d",
       "version_major": 2,
       "version_minor": 0
      },
      "text/plain": [
       "Map:   0%|          | 0/148 [00:00<?, ? examples/s]"
      ]
     },
     "metadata": {},
     "output_type": "display_data"
    },
    {
     "data": {
      "application/vnd.jupyter.widget-view+json": {
       "model_id": "88cad794941143cb82a58eede7d32dac",
       "version_major": 2,
       "version_minor": 0
      },
      "text/plain": [
       "Map:   0%|          | 0/37 [00:00<?, ? examples/s]"
      ]
     },
     "metadata": {},
     "output_type": "display_data"
    },
    {
     "name": "stderr",
     "output_type": "stream",
     "text": [
      "C:\\Users\\bauke\\anaconda3\\envs\\isi_env\\Lib\\site-packages\\transformers\\training_args.py:1594: FutureWarning: `evaluation_strategy` is deprecated and will be removed in version 4.46 of 🤗 Transformers. Use `eval_strategy` instead\n",
      "  warnings.warn(\n",
      "C:\\Users\\bauke\\AppData\\Local\\Temp\\ipykernel_24348\\659462430.py:80: FutureWarning: `tokenizer` is deprecated and will be removed in version 5.0.0 for `Trainer.__init__`. Use `processing_class` instead.\n",
      "  trainer = Trainer(\n"
     ]
    },
    {
     "data": {
      "text/html": [
       "\n",
       "    <div>\n",
       "      \n",
       "      <progress value='370' max='740' style='width:300px; height:20px; vertical-align: middle;'></progress>\n",
       "      [370/740 1:34:29 < 1:35:00, 0.06 it/s, Epoch 10/20]\n",
       "    </div>\n",
       "    <table border=\"1\" class=\"dataframe\">\n",
       "  <thead>\n",
       " <tr style=\"text-align: left;\">\n",
       "      <th>Epoch</th>\n",
       "      <th>Training Loss</th>\n",
       "      <th>Validation Loss</th>\n",
       "      <th>Precision</th>\n",
       "      <th>Recall</th>\n",
       "      <th>F1</th>\n",
       "    </tr>\n",
       "  </thead>\n",
       "  <tbody>\n",
       "    <tr>\n",
       "      <td>1</td>\n",
       "      <td>0.274700</td>\n",
       "      <td>0.136714</td>\n",
       "      <td>0.250000</td>\n",
       "      <td>0.304762</td>\n",
       "      <td>0.274678</td>\n",
       "    </tr>\n",
       "    <tr>\n",
       "      <td>2</td>\n",
       "      <td>0.123700</td>\n",
       "      <td>0.086277</td>\n",
       "      <td>0.517544</td>\n",
       "      <td>0.561905</td>\n",
       "      <td>0.538813</td>\n",
       "    </tr>\n",
       "    <tr>\n",
       "      <td>3</td>\n",
       "      <td>0.080200</td>\n",
       "      <td>0.073686</td>\n",
       "      <td>0.603524</td>\n",
       "      <td>0.652381</td>\n",
       "      <td>0.627002</td>\n",
       "    </tr>\n",
       "    <tr>\n",
       "      <td>4</td>\n",
       "      <td>0.061100</td>\n",
       "      <td>0.066196</td>\n",
       "      <td>0.668161</td>\n",
       "      <td>0.709524</td>\n",
       "      <td>0.688222</td>\n",
       "    </tr>\n",
       "    <tr>\n",
       "      <td>5</td>\n",
       "      <td>0.050800</td>\n",
       "      <td>0.062235</td>\n",
       "      <td>0.688073</td>\n",
       "      <td>0.714286</td>\n",
       "      <td>0.700935</td>\n",
       "    </tr>\n",
       "    <tr>\n",
       "      <td>6</td>\n",
       "      <td>0.043200</td>\n",
       "      <td>0.062576</td>\n",
       "      <td>0.686364</td>\n",
       "      <td>0.719048</td>\n",
       "      <td>0.702326</td>\n",
       "    </tr>\n",
       "    <tr>\n",
       "      <td>7</td>\n",
       "      <td>0.040000</td>\n",
       "      <td>0.061280</td>\n",
       "      <td>0.714286</td>\n",
       "      <td>0.738095</td>\n",
       "      <td>0.725995</td>\n",
       "    </tr>\n",
       "    <tr>\n",
       "      <td>8</td>\n",
       "      <td>0.034300</td>\n",
       "      <td>0.057371</td>\n",
       "      <td>0.730594</td>\n",
       "      <td>0.761905</td>\n",
       "      <td>0.745921</td>\n",
       "    </tr>\n",
       "    <tr>\n",
       "      <td>9</td>\n",
       "      <td>0.029700</td>\n",
       "      <td>0.056736</td>\n",
       "      <td>0.722727</td>\n",
       "      <td>0.757143</td>\n",
       "      <td>0.739535</td>\n",
       "    </tr>\n",
       "    <tr>\n",
       "      <td>10</td>\n",
       "      <td>0.025700</td>\n",
       "      <td>0.061067</td>\n",
       "      <td>0.727273</td>\n",
       "      <td>0.761905</td>\n",
       "      <td>0.744186</td>\n",
       "    </tr>\n",
       "  </tbody>\n",
       "</table><p>"
      ],
      "text/plain": [
       "<IPython.core.display.HTML object>"
      ]
     },
     "metadata": {},
     "output_type": "display_data"
    },
    {
     "data": {
      "text/plain": [
       "TrainOutput(global_step=370, training_loss=0.07632879566501927, metrics={'train_runtime': 5697.455, 'train_samples_per_second': 0.52, 'train_steps_per_second': 0.13, 'total_flos': 386729688883200.0, 'train_loss': 0.07632879566501927, 'epoch': 10.0})"
      ]
     },
     "execution_count": 16,
     "metadata": {},
     "output_type": "execute_result"
    }
   ],
   "source": [
    "from transformers import AutoModelForTokenClassification, TrainingArguments, Trainer, EarlyStoppingCallback\n",
    "import torch\n",
    "from seqeval.metrics import f1_score, precision_score, recall_score\n",
    "import numpy as np\n",
    "\n",
    "tokenizer = AutoTokenizer.from_pretrained(\"Jean-Baptiste/camembert-ner\")\n",
    "\n",
    "train_dataset = Dataset.from_list(train_data)\n",
    "eval_dataset = Dataset.from_list(eval_data)\n",
    "\n",
    "def tokenize_and_align_labels(example):\n",
    "    tokenized = tokenizer(\n",
    "        example[\"tokens\"],\n",
    "        truncation=True,\n",
    "        padding=\"max_length\",\n",
    "        max_length=512,\n",
    "        is_split_into_words=True,\n",
    "    )\n",
    "    labels = []\n",
    "    word_ids = tokenized.word_ids()\n",
    "    prev_word_id = None\n",
    "    for word_id in word_ids:\n",
    "        if word_id is None:\n",
    "            labels.append(-100)\n",
    "        else:\n",
    "            labels.append(example[\"ner_tags\"][word_id])\n",
    "        prev_word_id = word_id\n",
    "\n",
    "    tokenized[\"labels\"] = labels\n",
    "    return tokenized\n",
    "\n",
    "def compute_metrics(p):\n",
    "    predictions, labels = p\n",
    "    predictions = np.argmax(predictions, axis=2)\n",
    "\n",
    "    true_labels = [[[\"O\", \"B-PER\", \"I-PER\", \"B-LOC\", \"I-LOC\"][l] for l in label if l != -100] for label in labels]\n",
    "    true_predictions = [\n",
    "        [[\"O\", \"B-PER\", \"I-PER\", \"B-LOC\", \"I-LOC\"][p] for (p, l) in zip(pred, label) if l != -100]\n",
    "        for pred, label in zip(predictions, labels)\n",
    "    ]\n",
    "\n",
    "    return {\n",
    "        \"precision\": precision_score(true_labels, true_predictions),\n",
    "        \"recall\": recall_score(true_labels, true_predictions),\n",
    "        \"f1\": f1_score(true_labels, true_predictions),\n",
    "    }\n",
    "\n",
    "train_dataset = train_dataset.map(tokenize_and_align_labels, batched=False)\n",
    "eval_dataset = eval_dataset.map(tokenize_and_align_labels, batched=False)\n",
    "\n",
    "id2label = {i: l for i, l in enumerate(LABEL_LIST)}\n",
    "label2id = {l: i for i, l in enumerate(LABEL_LIST)}\n",
    "\n",
    "model = AutoModelForTokenClassification.from_pretrained(\n",
    "    \"Jean-Baptiste/camembert-ner\",\n",
    "    num_labels=len(LABEL_LIST),\n",
    "    id2label=id2label,\n",
    "    label2id=label2id\n",
    ")\n",
    "\n",
    "training_args = TrainingArguments(\n",
    "    output_dir=\"./ner_camembert_finetuned4\",\n",
    "    evaluation_strategy=\"epoch\",\n",
    "    save_strategy=\"epoch\",\n",
    "    learning_rate=1e-5,\n",
    "    per_device_train_batch_size=4,\n",
    "    num_train_epochs=20,\n",
    "    lr_scheduler_type='linear',\n",
    "    save_total_limit=1,\n",
    "    weight_decay=0.01,\n",
    "    logging_dir=\"./logs\",\n",
    "    logging_strategy=\"epoch\",\n",
    "    push_to_hub=False,\n",
    "    load_best_model_at_end=True,\n",
    "    metric_for_best_model=\"f1\",\n",
    ")\n",
    "\n",
    "trainer = Trainer(\n",
    "    model=model,\n",
    "    args=training_args,\n",
    "    train_dataset=train_dataset,\n",
    "    eval_dataset=eval_dataset,\n",
    "    tokenizer=tokenizer,\n",
    "    compute_metrics=compute_metrics,\n",
    "    callbacks=[EarlyStoppingCallback(early_stopping_patience=2)],\n",
    ")\n",
    "\n",
    "trainer.train()\n"
   ]
  },
  {
   "cell_type": "code",
   "execution_count": 17,
   "metadata": {},
   "outputs": [
    {
     "data": {
      "text/plain": [
       "('./ner_camembert_finetuned4\\\\tokenizer_config.json',\n",
       " './ner_camembert_finetuned4\\\\special_tokens_map.json',\n",
       " './ner_camembert_finetuned4\\\\sentencepiece.bpe.model',\n",
       " './ner_camembert_finetuned4\\\\added_tokens.json',\n",
       " './ner_camembert_finetuned4\\\\tokenizer.json')"
      ]
     },
     "execution_count": 17,
     "metadata": {},
     "output_type": "execute_result"
    }
   ],
   "source": [
    "model.save_pretrained(\"./ner_camembert_finetuned4\")\n",
    "tokenizer.save_pretrained(\"./ner_camembert_finetuned4\")"
   ]
  },
  {
   "cell_type": "code",
   "execution_count": null,
   "metadata": {},
   "outputs": [
    {
     "name": "stderr",
     "output_type": "stream",
     "text": [
      "Device set to use cpu\n"
     ]
    },
    {
     "name": "stdout",
     "output_type": "stream",
     "text": [
      "✅ Saved NER results with confidence scores to ner_results_trainedformllm.json\n"
     ]
    }
   ],
   "source": [
    "from transformers import pipeline\n",
    "import os\n",
    "import json\n",
    "import re\n",
    "import unicodedata\n",
    "\n",
    "ner_pipeline = pipeline(\n",
    "    \"ner\",\n",
    "    model=\"./ner_camembert_finetuned4\",\n",
    "    tokenizer=\"./ner_camembert_finetuned4\",\n",
    "    aggregation_strategy=\"simple\"\n",
    ")\n",
    "\n",
    "folder_path = r\"C:\\Users\\bauke\\OneDrive - KU Leuven\\Documents\\Documenten\\5 digital humanities\\stage\\articles-verbetering\"\n",
    "output_data = []\n",
    "\n",
    "def preprocess_text(text):\n",
    "    text = unicodedata.normalize(\"NFKC\", text)  \n",
    "    text = re.sub(r\"(\\w+)-\\n(\\w+)\", r\"\\1\\2\", text)  \n",
    "    text = re.sub(r\"\\n+\", \" \", text)\n",
    "    text = re.sub(r\"\\s+\", \" \", text).strip()  \n",
    "    text = re.sub(r\"(\\w)([.,;!?])\", r\"\\1 \\2\", text)  \n",
    "    return text\n",
    "\n",
    "for filename in os.listdir(folder_path):\n",
    "    if filename.endswith(\".txt\"):\n",
    "        file_path = os.path.join(folder_path, filename)\n",
    "        with open(file_path, encoding=\"utf-8\") as f:\n",
    "            text = f.read()\n",
    "        \n",
    "        clean_text = preprocess_text(text)\n",
    "\n",
    "        entities_raw = ner_pipeline(clean_text)\n",
    "\n",
    "        entities = []\n",
    "        for ent in entities_raw:\n",
    "            if ent[\"entity_group\"] in [\"PER\", \"LOC\"]:\n",
    "                entities.append({\n",
    "                    \"text\": ent[\"word\"],\n",
    "                    \"start\": ent[\"start\"],\n",
    "                    \"end\": ent[\"end\"],\n",
    "                    \"label\": ent[\"entity_group\"],\n",
    "                    \"score\": round(float(ent[\"score\"]), 4)\n",
    "                })\n",
    "\n",
    "        output_data.append({\n",
    "            \"filename\": filename,\n",
    "            \"entities\": entities\n",
    "        })\n",
    "\n",
    "with open(\"ner_results_trainedformllm.json\", \"w\", encoding=\"utf-8\") as out_file:\n",
    "    json.dump(output_data, out_file, ensure_ascii=False, indent=2)\n",
    "\n",
    "print(\"Saved NER results with confidence scores to ner_results_trainedformllm.json\")\n"
   ]
  },
  {
   "cell_type": "code",
   "execution_count": null,
   "metadata": {},
   "outputs": [],
   "source": []
  }
 ],
 "metadata": {
  "kernelspec": {
   "display_name": "Python 3 (ipykernel)",
   "language": "python",
   "name": "python3"
  },
  "language_info": {
   "codemirror_mode": {
    "name": "ipython",
    "version": 3
   },
   "file_extension": ".py",
   "mimetype": "text/x-python",
   "name": "python",
   "nbconvert_exporter": "python",
   "pygments_lexer": "ipython3",
   "version": "3.12.7"
  }
 },
 "nbformat": 4,
 "nbformat_minor": 2
}
