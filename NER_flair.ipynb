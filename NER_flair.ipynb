{
 "cells": [
  {
   "cell_type": "code",
   "execution_count": null,
   "metadata": {},
   "outputs": [],
   "source": [
    "pip install flair "
   ]
  },
  {
   "cell_type": "code",
   "execution_count": null,
   "metadata": {},
   "outputs": [
    {
     "data": {
      "application/vnd.jupyter.widget-view+json": {
       "model_id": "c1146364e2a3458588503e83dbe4e3b3",
       "version_major": 2,
       "version_minor": 0
      },
      "text/plain": [
       "pytorch_model.bin:  73%|#######2  | 944M/1.30G [00:00<?, ?B/s]"
      ]
     },
     "metadata": {},
     "output_type": "display_data"
    },
    {
     "name": "stdout",
     "output_type": "stream",
     "text": [
      "2025-04-08 15:51:00,712 SequenceTagger predicts: Dictionary with 19 tags: O, S-LOC, B-LOC, E-LOC, I-LOC, S-PER, B-PER, E-PER, I-PER, S-MISC, B-MISC, E-MISC, I-MISC, S-ORG, B-ORG, E-ORG, I-ORG, <START>, <STOP>\n"
     ]
    }
   ],
   "source": [
    "import os\n",
    "import pandas as pd\n",
    "from flair.data import Sentence\n",
    "from flair.models import SequenceTagger\n",
    "\n",
    "# Load the French NER tagger from Flair\n",
    "tagger = SequenceTagger.load(\"flair/ner-french\") \n",
    "\n",
    "folder_path = r\"C:\\Users\\bauke\\OneDrive - KU Leuven\\Documents\\Documenten\\5 digital humanities\\stage\\articles-verbetering\"\n",
    "\n",
    "# Function to remove duplicates but keep order\n",
    "def remove_duplicates_preserve_order(seq):\n",
    "    seen = set()\n",
    "    return [x for x in seq if not (x in seen or seen.add(x))]\n",
    "\n",
    "# Preprocessing function \n",
    "def preprocess_text(text):\n",
    "    text = unicodedata.normalize(\"NFKC\", text)  \n",
    "    text = text.lower()  \n",
    "    text = re.sub(r\"\\s+\", \" \", text) \n",
    "    text = re.sub(r\"[^\\w\\s]\", \"\", text)  \n",
    "    return text.strip()\n",
    "\n",
    "\n",
    "data = []\n",
    "\n",
    "# Loop through text files\n",
    "for filename in os.listdir(folder_path):\n",
    "    if filename.endswith(\".txt\"):\n",
    "        file_path = os.path.join(folder_path, filename)\n",
    "        with open(file_path, \"r\", encoding=\"utf-8\") as f:\n",
    "            text = f.read()\n",
    "\n",
    "        cleaned_text = preprocess_text(text)\n",
    "\n",
    "        # Run NER\n",
    "        sentence = Sentence(cleaned_text)\n",
    "        tagger.predict(sentence)\n",
    "\n",
    "        # Extract entities\n",
    "        people = []\n",
    "        locations = []\n",
    "\n",
    "        for entity in sentence.get_spans('ner'):\n",
    "            label = entity.get_label(\"ner\").value\n",
    "            entity_text = entity.cleaned_text.strip()\n",
    "\n",
    "            if label == \"PER\":\n",
    "                people.append(entity_text)\n",
    "            elif label == \"LOC\":\n",
    "                locations.append(entity_text)\n",
    "\n",
    "        # Remove duplicates and flatten\n",
    "        people_clean = \", \".join(remove_duplicates_preserve_order(people))\n",
    "        locations_clean = \", \".join(remove_duplicates_preserve_order(locations))\n",
    "\n",
    "        # Append to list\n",
    "        data.append({\n",
    "            \"filename\": filename,\n",
    "            \"text\": text,\n",
    "            \"cleaned_text\": cleaned_text\n",
    "            \"people\": people_clean,\n",
    "            \"locations\": locations_clean\n",
    "        })\n",
    "\n",
    "df = pd.DataFrame(data)\n",
    "df.to_csv(\"flair_ner_results2.csv\", index=False)\n"
   ]
  },
  {
   "cell_type": "code",
   "execution_count": null,
   "metadata": {},
   "outputs": [],
   "source": []
  }
 ],
 "metadata": {
  "kernelspec": {
   "display_name": "isi_env",
   "language": "python",
   "name": "python3"
  },
  "language_info": {
   "codemirror_mode": {
    "name": "ipython",
    "version": 3
   },
   "file_extension": ".py",
   "mimetype": "text/x-python",
   "name": "python",
   "nbconvert_exporter": "python",
   "pygments_lexer": "ipython3",
   "version": "3.12.7"
  }
 },
 "nbformat": 4,
 "nbformat_minor": 2
}
